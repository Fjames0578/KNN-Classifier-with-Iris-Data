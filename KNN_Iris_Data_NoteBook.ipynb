{
 "cells": [
  {
   "cell_type": "code",
   "execution_count": 43,
   "metadata": {},
   "outputs": [
    {
     "ename": "ModuleNotFoundError",
     "evalue": "No module named 'numpy'",
     "output_type": "error",
     "traceback": [
      "\u001b[1;31m---------------------------------------------------------------------------\u001b[0m",
      "\u001b[1;31mModuleNotFoundError\u001b[0m                       Traceback (most recent call last)",
      "Cell \u001b[1;32mIn[43], line 1\u001b[0m\n\u001b[1;32m----> 1\u001b[0m \u001b[38;5;28;01mimport\u001b[39;00m \u001b[38;5;21;01mnumpy\u001b[39;00m \u001b[38;5;28;01mas\u001b[39;00m \u001b[38;5;21;01mnp\u001b[39;00m\n\u001b[0;32m      2\u001b[0m \u001b[38;5;28;01mimport\u001b[39;00m \u001b[38;5;21;01mpandas\u001b[39;00m \u001b[38;5;28;01mas\u001b[39;00m \u001b[38;5;21;01mpd\u001b[39;00m\n\u001b[0;32m      3\u001b[0m \u001b[38;5;28;01mfrom\u001b[39;00m \u001b[38;5;21;01mcollections\u001b[39;00m \u001b[38;5;28;01mimport\u001b[39;00m Counter\n",
      "\u001b[1;31mModuleNotFoundError\u001b[0m: No module named 'numpy'"
     ]
    }
   ],
   "source": [
    "import numpy as np\n",
    "import pandas as pd\n",
    "from collections import Counter"
   ]
  },
  {
   "cell_type": "code",
   "execution_count": null,
   "metadata": {},
   "outputs": [],
   "source": [
    "# L - Load the data from CSV\n",
    "def load_data(file_path):\n",
    "    return pd.read_csv(file_path)\n",
    "\n",
    "# I - Initialize the value of k\n",
    "def initialize_k():\n",
    "    return 3  # Choose the number of neighbors"
   ]
  },
  {
   "cell_type": "code",
   "execution_count": null,
   "metadata": {},
   "outputs": [],
   "source": [
    "# S - Sort distances in ascending order\n",
    "def calculate_distances(train_data, test_point):\n",
    "    distances = []\n",
    "    for i in range(len(train_data)):\n",
    "        distance = np.sqrt(np.sum((np.array(test_point[:-1]) - np.array(train_data.iloc[i, :-1])) ** 2))\n",
    "        distances.append((distance, train_data.iloc[i, -1]))\n",
    "    distances.sort(key=lambda x: x[0])\n",
    "    return distances"
   ]
  },
  {
   "cell_type": "code",
   "execution_count": null,
   "metadata": {},
   "outputs": [],
   "source": [
    "# K - Keep the top k nearest neighbors\n",
    "def get_top_k_neighbors(distances, k):\n",
    "    return distances[:k]\n",
    "\n",
    "# S - Select the most frequent class\n",
    "def select_most_frequent_class(neighbors):\n",
    "    neighbor_classes = [neighbor[1] for neighbor in neighbors]\n",
    "    most_common = Counter(neighbor_classes).most_common(1)\n",
    "    return most_common[0][0]"
   ]
  },
  {
   "cell_type": "code",
   "execution_count": null,
   "metadata": {},
   "outputs": [],
   "source": [
    "\n",
    "# M - Make predictions based on neighbors\n",
    "def knn_predict(train_data, test_point, k):\n",
    "    distances = calculate_distances(train_data, test_point)\n",
    "    neighbors = get_top_k_neighbors(distances, k)\n",
    "    return select_most_frequent_class(neighbors)\n",
    "\n",
    "# I - Iterate through each data point for classification\n",
    "def classify_data(train_data, test_points, k):\n",
    "    predictions = []\n",
    "    for test_point in test_points:\n",
    "        predicted_class = knn_predict(train_data, test_point, k)\n",
    "        predictions.append(predicted_class)\n",
    "    return predictions"
   ]
  },
  {
   "cell_type": "code",
   "execution_count": null,
   "metadata": {},
   "outputs": [
    {
     "ename": "NameError",
     "evalue": "name 'pd' is not defined",
     "output_type": "error",
     "traceback": [
      "\u001b[1;31m---------------------------------------------------------------------------\u001b[0m",
      "\u001b[1;31mNameError\u001b[0m                                 Traceback (most recent call last)",
      "Cell \u001b[1;32mIn[40], line 22\u001b[0m\n\u001b[0;32m     20\u001b[0m     \u001b[38;5;28;01mfor\u001b[39;00m test_point, prediction \u001b[38;5;129;01min\u001b[39;00m \u001b[38;5;28mzip\u001b[39m(test_data\u001b[38;5;241m.\u001b[39mvalues, predictions):\n\u001b[0;32m     21\u001b[0m         \u001b[38;5;28mprint\u001b[39m(\u001b[38;5;124mf\u001b[39m\u001b[38;5;124m\"\u001b[39m\u001b[38;5;124mThe predicted class for the test point \u001b[39m\u001b[38;5;132;01m{\u001b[39;00mtest_point[:\u001b[38;5;241m-\u001b[39m\u001b[38;5;241m1\u001b[39m]\u001b[38;5;132;01m}\u001b[39;00m\u001b[38;5;124m is: \u001b[39m\u001b[38;5;132;01m{\u001b[39;00mprediction\u001b[38;5;132;01m}\u001b[39;00m\u001b[38;5;124m\"\u001b[39m)\n\u001b[1;32m---> 22\u001b[0m \u001b[43mmain\u001b[49m\u001b[43m(\u001b[49m\u001b[43m)\u001b[49m\n",
      "Cell \u001b[1;32mIn[40], line 4\u001b[0m, in \u001b[0;36mmain\u001b[1;34m()\u001b[0m\n\u001b[0;32m      2\u001b[0m \u001b[38;5;28;01mdef\u001b[39;00m \u001b[38;5;21mmain\u001b[39m():\n\u001b[0;32m      3\u001b[0m     file_path \u001b[38;5;241m=\u001b[39m \u001b[38;5;124m'\u001b[39m\u001b[38;5;124miris.csv\u001b[39m\u001b[38;5;124m'\u001b[39m  \u001b[38;5;66;03m# Path to your CSV file\u001b[39;00m\n\u001b[1;32m----> 4\u001b[0m     data \u001b[38;5;241m=\u001b[39m \u001b[43mload_data\u001b[49m\u001b[43m(\u001b[49m\u001b[43mfile_path\u001b[49m\u001b[43m)\u001b[49m\n\u001b[0;32m      6\u001b[0m     \u001b[38;5;66;03m# Assuming the last column is the class label\u001b[39;00m\n\u001b[0;32m      7\u001b[0m     train_data \u001b[38;5;241m=\u001b[39m data\u001b[38;5;241m.\u001b[39miloc[:, :\u001b[38;5;241m-\u001b[39m\u001b[38;5;241m1\u001b[39m]\n",
      "Cell \u001b[1;32mIn[5], line 3\u001b[0m, in \u001b[0;36mload_data\u001b[1;34m(file_path)\u001b[0m\n\u001b[0;32m      2\u001b[0m \u001b[38;5;28;01mdef\u001b[39;00m \u001b[38;5;21mload_data\u001b[39m(file_path):\n\u001b[1;32m----> 3\u001b[0m     \u001b[38;5;28;01mreturn\u001b[39;00m \u001b[43mpd\u001b[49m\u001b[38;5;241m.\u001b[39mread_csv(file_path)\n",
      "\u001b[1;31mNameError\u001b[0m: name 'pd' is not defined"
     ]
    }
   ],
   "source": [
    "\n",
    "# R - Return the predicted class\n",
    "def main():\n",
    "    file_path = 'iris.csv'  # Path to your CSV file\n",
    "    data = load_data(file_path)\n",
    "    \n",
    "    # Assuming the last column is the class label\n",
    "    train_data = data.iloc[:, :-1]\n",
    "    test_data = data.iloc[:, :-1]  # Using the same data for simplicity, normally this should be separate\n",
    "\n",
    "    # Add an empty column for class in test data\n",
    "    test_data['Class'] = np.nan\n",
    "    \n",
    "    # Initialize k\n",
    "    k = initialize_k()\n",
    "    predictions = classify_data(data, test_data.values, k)\n",
    "    \n",
    "    # Print the predictions\n",
    "    for test_point, prediction in zip(test_data.values, predictions):\n",
    "        print(f\"The predicted class for the test point {test_point[:-1]} is: {prediction}\")\n",
    "    for test_point, prediction in zip(test_data.values, predictions):\n",
    "        print(f\"The predicted class for the test point {test_point[:-1]} is: {prediction}\")\n",
    "main()\n",
    "   "
   ]
  }
 ],
 "metadata": {
  "kernelspec": {
   "display_name": "Python 3",
   "language": "python",
   "name": "python3"
  },
  "language_info": {
   "codemirror_mode": {
    "name": "ipython",
    "version": 3
   },
   "file_extension": ".py",
   "mimetype": "text/x-python",
   "name": "python",
   "nbconvert_exporter": "python",
   "pygments_lexer": "ipython3",
   "version": "3.11.9"
  }
 },
 "nbformat": 4,
 "nbformat_minor": 2
}
