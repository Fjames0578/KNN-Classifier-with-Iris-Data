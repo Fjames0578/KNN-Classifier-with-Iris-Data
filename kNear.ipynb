{
 "cells": [
  {
   "cell_type": "code",
   "execution_count": 25,
   "metadata": {},
   "outputs": [
    {
     "ename": "ModuleNotFoundError",
     "evalue": "No module named 'numpy'",
     "output_type": "error",
     "traceback": [
      "\u001b[1;31m---------------------------------------------------------------------------\u001b[0m",
      "\u001b[1;31mModuleNotFoundError\u001b[0m                       Traceback (most recent call last)",
      "Cell \u001b[1;32mIn[25], line 1\u001b[0m\n\u001b[1;32m----> 1\u001b[0m \u001b[38;5;28;01mimport\u001b[39;00m \u001b[38;5;21;01mnumpy\u001b[39;00m \u001b[38;5;28;01mas\u001b[39;00m \u001b[38;5;21;01mnp\u001b[39;00m\n\u001b[0;32m      2\u001b[0m \u001b[38;5;28;01mimport\u001b[39;00m \u001b[38;5;21;01mpandas\u001b[39;00m \u001b[38;5;28;01mas\u001b[39;00m \u001b[38;5;21;01mpd\u001b[39;00m\n\u001b[0;32m      3\u001b[0m \u001b[38;5;28;01mfrom\u001b[39;00m \u001b[38;5;21;01mcollections\u001b[39;00m \u001b[38;5;28;01mimport\u001b[39;00m Counter\n",
      "\u001b[1;31mModuleNotFoundError\u001b[0m: No module named 'numpy'"
     ]
    }
   ],
   "source": [
    "import numpy as np\n",
    "import pandas as pd\n",
    "from collections import Counter"
   ]
  },
  {
   "cell_type": "code",
   "execution_count": null,
   "metadata": {},
   "outputs": [],
   "source": [
    "def load_data():\n",
    "    # Example data: You can replace this with actual data loading code\n",
    "    return pd.DataFrame({\n",
    "        'Feature1': [1, 2, 3, 4],\n",
    "        'Feature2': [1, 2, 3, 4],\n",
    "        'Class': [0, 1, 0, 1]\n",
    "    })\n"
   ]
  },
  {
   "cell_type": "code",
   "execution_count": null,
   "metadata": {},
   "outputs": [],
   "source": [
    "\n",
    "# S - Sort distances in ascending order\n",
    "def calculate_distances(train_data, test_point):\n",
    "    distances = []\n",
    "    for i in range(len(train_data)):\n",
    "        distance = np.sqrt(np.sum((np.array(test_point[:-1]) - np.array(train_data.iloc[i, :-1])) ** 2))\n",
    "        distances.append((distance, train_data.iloc[i, -1]))\n",
    "    distances.sort(key=lambda x: x[0])\n",
    "    return distances"
   ]
  },
  {
   "cell_type": "code",
   "execution_count": null,
   "metadata": {},
   "outputs": [],
   "source": [
    "# K - Keep the top k nearest neighbors\n",
    "def get_top_k_neighbors(distances, k):\n",
    "    return distances[:k]"
   ]
  },
  {
   "cell_type": "code",
   "execution_count": null,
   "metadata": {},
   "outputs": [],
   "source": [
    "\n",
    "# S - Select the most frequent class\n",
    "def select_most_frequent(neighbors):\n",
    "    neighbor_classes = [neighbor[-1] for neighbor in neighbors]\n",
    "    most_common_class = Counter(neighbor_classes).most_common(1)[0][0]\n",
    "    return most_common_class"
   ]
  },
  {
   "cell_type": "code",
   "execution_count": null,
   "metadata": {},
   "outputs": [],
   "source": [
    "# M - Make predictions based on neighbors\n",
    "def predict(train_data, test_point, k):\n",
    "    distances = calculate_distances(train_data, test_point)\n",
    "    neighbors = get_top_k_neighbors(distances, k)\n",
    "    prediction = select_most_frequent(neighbors)\n",
    "    return prediction"
   ]
  },
  {
   "cell_type": "code",
   "execution_count": null,
   "metadata": {},
   "outputs": [],
   "source": [
    "# I - Iterate through each data point for classification\n",
    "def classify(train_data, test_data, k):\n",
    "    predictions = []\n",
    "    for test_point in test_points:\n",
    "        predicted_class = knn_predict(train_data, test_point, k)\n",
    "        predictions.append(predicted_class)\n",
    "    return predictions"
   ]
  },
  {
   "cell_type": "code",
   "execution_count": 26,
   "metadata": {},
   "outputs": [],
   "source": [
    "# R - Return the predicted class\n",
    "def main():\n",
    "    test_points = [[1, 1], [2, 2], [3, 3], [4, 4]]\n",
    "    k = initialize_k()\n",
    "\n",
    "    predictions = classify(train_data, test_points, k)\n",
    "    for test_point, predicted_class in zip(test_points, predictions):\n",
    "        print(f\"Test point: {test_point}, Predicted class: {predicted_class}\")\n",
    "\n"
   ]
  },
  {
   "cell_type": "code",
   "execution_count": null,
   "metadata": {},
   "outputs": [],
   "source": [
    "\n",
    "def load_data():\n",
    "    # Example data: You can replace this with actual data loading code\n",
    "    return pd.DataFrame({\n",
    "        'Feature1': [1, 2, 3, 4],\n",
    "        'Feature2': [1, 2, 3, 4],\n",
    "        'Class': [0, 1, 0, 1]\n",
    "    })\n",
    "\n",
    "    if __name__ == \"__main__\":\n",
    "             main()"
   ]
  }
 ],
 "metadata": {
  "kernelspec": {
   "display_name": "Python 3",
   "language": "python",
   "name": "python3"
  },
  "language_info": {
   "codemirror_mode": {
    "name": "ipython",
    "version": 3
   },
   "file_extension": ".py",
   "mimetype": "text/x-python",
   "name": "python",
   "nbconvert_exporter": "python",
   "pygments_lexer": "ipython3",
   "version": "3.11.9"
  }
 },
 "nbformat": 4,
 "nbformat_minor": 2
}
